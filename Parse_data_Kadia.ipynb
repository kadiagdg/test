{
 "cells": [
  {
   "cell_type": "code",
   "execution_count": 31,
   "id": "00c49b2d-19b2-42c1-87fd-94c23b0a2d7e",
   "metadata": {},
   "outputs": [],
   "source": [
    "import pandas as pd"
   ]
  },
  {
   "cell_type": "code",
   "execution_count": 46,
   "id": "31e6db25-c0ef-4fe3-abde-e4d5ffcc2ea8",
   "metadata": {},
   "outputs": [],
   "source": [
    "data_json = \"\"\"{\"url\": \"https://0\", \"user\": \"<user 'chrome' 0>\", \"serveur\": \"ppe-0\", \"val\": \"aut-0\", \"arg\": {}, \"statut\": 200,\"date\":1658244717, \"remote\": \"remote-0\", \"exist\": true, \"ipinfo\": null, \"location\": \"City-0\"}  \n",
    "{\"url\": \"https://1\", \"user\": \"<user 'chrome' 1>\", \"serveur\": \"ppe-1\", \"val\": \"aut-1\", \"arg\": {\"param1\": 1, \"param2\": 2}, \"statut\": 201,\"date\":1658244719, \"remote\": \"remote-1\", \"exist\": false, \"ipinfo\":  \"192.168.1.1\", \"location\": \"City-1\"}  \n",
    " {\"url\": \"https://2\", \"user\": \"<user 'chrome' 2>\", \"serveur\": \"ppe-2\", \"val\": \"aut-2\", \"arg\": {\"param1\": 2, \"param2\": 4}, \"statut\": 202,\"date\":1658244730, \"remote\": \"\", \"exist\": true, \"ipinfo\": \"192.168.1.2\", \"location\": \"City-2\"}\"\"\""
   ]
  },
  {
   "cell_type": "code",
   "execution_count": null,
   "id": "8a767290-b30e-4a9f-b355-7daa1f98405c",
   "metadata": {},
   "outputs": [],
   "source": []
  },
  {
   "cell_type": "code",
   "execution_count": 45,
   "id": "53560f58-7ff2-4d74-a9c8-f240225e3a15",
   "metadata": {},
   "outputs": [],
   "source": [
    "data_json = \"\"\"{\"url\": \"https://1\", \"user\": \"<user 'chrome' 1>\", \"serveur\": \"ppe-1\", \"val\": \"aut-1\", \"arg\": {\"param1\": 1, \"param2\": 2}, \"statut\": 201,\"date\":1658244719, \"remote\": \"remote-1\", \"exist\": false, \"ipinfo\":  \"192.168.1.1\", \"location\": \"City-1\"}  \n",
    " {\"url\": \"https://2\", \"user\": \"<user 'chrome' 2>\", \"serveur\": \"ppe-2\", \"val\": \"aut-2\", \"arg\": {\"param1\": 2, \"param2\": 4}, \"statut\": 202,\"date\":1658244730, \"remote\": \"\", \"exist\": true, \"ipinfo\": \"192.168.1.2\", \"location\": \"City-2\"}\"\"\""
   ]
  },
  {
   "cell_type": "code",
   "execution_count": 47,
   "id": "01f9e900-8209-4c1e-a67b-89e75b34b6a2",
   "metadata": {},
   "outputs": [
    {
     "data": {
      "text/plain": [
       "'{\"url\": \"https://0\", \"user\": \"<user \\'chrome\\' 0>\", \"serveur\": \"ppe-0\", \"val\": \"aut-0\", \"arg\": {}, \"statut\": 200,\"date\":1658244717, \"remote\": \"remote-0\", \"exist\": true, \"ipinfo\": null, \"location\": \"City-0\"}  \\n{\"url\": \"https://1\", \"user\": \"<user \\'chrome\\' 1>\", \"serveur\": \"ppe-1\", \"val\": \"aut-1\", \"arg\": {\"param1\": 1, \"param2\": 2}, \"statut\": 201,\"date\":1658244719, \"remote\": \"remote-1\", \"exist\": false, \"ipinfo\":  \"192.168.1.1\", \"location\": \"City-1\"}  \\n {\"url\": \"https://2\", \"user\": \"<user \\'chrome\\' 2>\", \"serveur\": \"ppe-2\", \"val\": \"aut-2\", \"arg\": {\"param1\": 2, \"param2\": 4}, \"statut\": 202,\"date\":1658244730, \"remote\": \"\", \"exist\": true, \"ipinfo\": \"192.168.1.2\", \"location\": \"City-2\"}'"
      ]
     },
     "execution_count": 47,
     "metadata": {},
     "output_type": "execute_result"
    }
   ],
   "source": [
    "data_json"
   ]
  },
  {
   "cell_type": "code",
   "execution_count": 48,
   "id": "86c94e6d-f5c0-4fc0-8dde-b891a1f2a47f",
   "metadata": {},
   "outputs": [],
   "source": [
    "import json"
   ]
  },
  {
   "cell_type": "code",
   "execution_count": 49,
   "id": "a95f32e3-08f8-4c05-94fb-109d7db38dc3",
   "metadata": {},
   "outputs": [],
   "source": [
    "data = data_json.split('\\n')"
   ]
  },
  {
   "cell_type": "code",
   "execution_count": 50,
   "id": "44bbbbb2-8e5b-4909-be98-0e9b83427d5d",
   "metadata": {},
   "outputs": [
    {
     "data": {
      "text/plain": [
       "['{\"url\": \"https://0\", \"user\": \"<user \\'chrome\\' 0>\", \"serveur\": \"ppe-0\", \"val\": \"aut-0\", \"arg\": {}, \"statut\": 200,\"date\":1658244717, \"remote\": \"remote-0\", \"exist\": true, \"ipinfo\": null, \"location\": \"City-0\"}  ',\n",
       " '{\"url\": \"https://1\", \"user\": \"<user \\'chrome\\' 1>\", \"serveur\": \"ppe-1\", \"val\": \"aut-1\", \"arg\": {\"param1\": 1, \"param2\": 2}, \"statut\": 201,\"date\":1658244719, \"remote\": \"remote-1\", \"exist\": false, \"ipinfo\":  \"192.168.1.1\", \"location\": \"City-1\"}  ',\n",
       " ' {\"url\": \"https://2\", \"user\": \"<user \\'chrome\\' 2>\", \"serveur\": \"ppe-2\", \"val\": \"aut-2\", \"arg\": {\"param1\": 2, \"param2\": 4}, \"statut\": 202,\"date\":1658244730, \"remote\": \"\", \"exist\": true, \"ipinfo\": \"192.168.1.2\", \"location\": \"City-2\"}']"
      ]
     },
     "execution_count": 50,
     "metadata": {},
     "output_type": "execute_result"
    }
   ],
   "source": [
    "data"
   ]
  },
  {
   "cell_type": "code",
   "execution_count": 51,
   "id": "5ae6246b-7a33-4786-bbd4-71e4cae6c845",
   "metadata": {},
   "outputs": [],
   "source": [
    "from datetime import datetime\n",
    " \n",
    "#dt_obj = datetime.fromtimestamp()"
   ]
  },
  {
   "cell_type": "markdown",
   "id": "74adaf95-2b40-4db1-8c07-79fa2b1ae1ce",
   "metadata": {},
   "source": [
    "# Initialisation du dataframe"
   ]
  },
  {
   "cell_type": "code",
   "execution_count": 54,
   "id": "03b0aec5-048e-404b-9339-71cf17cea3bf",
   "metadata": {},
   "outputs": [],
   "source": [
    "df1 = pd.DataFrame(columns = ['url', 'user', 'serveur','val', 'param1', 'param2', 'statut', 'date', 'remote', 'exist', 'ipinfo', 'location' ])"
   ]
  },
  {
   "cell_type": "code",
   "execution_count": 55,
   "id": "fc65add7-9df1-4d24-8d25-c624a892f180",
   "metadata": {},
   "outputs": [
    {
     "name": "stderr",
     "output_type": "stream",
     "text": [
      "/var/folders/18/sbx_5ksj2qd626pf1wdsq2vh0000gn/T/ipykernel_39966/1394283067.py:23: FutureWarning: The frame.append method is deprecated and will be removed from pandas in a future version. Use pandas.concat instead.\n",
      "  df = df.append(lines_json, ignore_index = True)\n",
      "/var/folders/18/sbx_5ksj2qd626pf1wdsq2vh0000gn/T/ipykernel_39966/1394283067.py:23: FutureWarning: In a future version, object-dtype columns with all-bool values will not be included in reductions with bool_only=True. Explicitly cast to bool dtype instead.\n",
      "  df = df.append(lines_json, ignore_index = True)\n",
      "/var/folders/18/sbx_5ksj2qd626pf1wdsq2vh0000gn/T/ipykernel_39966/1394283067.py:23: FutureWarning: The frame.append method is deprecated and will be removed from pandas in a future version. Use pandas.concat instead.\n",
      "  df = df.append(lines_json, ignore_index = True)\n",
      "/var/folders/18/sbx_5ksj2qd626pf1wdsq2vh0000gn/T/ipykernel_39966/1394283067.py:23: FutureWarning: In a future version, object-dtype columns with all-bool values will not be included in reductions with bool_only=True. Explicitly cast to bool dtype instead.\n",
      "  df = df.append(lines_json, ignore_index = True)\n",
      "/var/folders/18/sbx_5ksj2qd626pf1wdsq2vh0000gn/T/ipykernel_39966/1394283067.py:23: FutureWarning: The frame.append method is deprecated and will be removed from pandas in a future version. Use pandas.concat instead.\n",
      "  df = df.append(lines_json, ignore_index = True)\n",
      "/var/folders/18/sbx_5ksj2qd626pf1wdsq2vh0000gn/T/ipykernel_39966/1394283067.py:23: FutureWarning: In a future version, object-dtype columns with all-bool values will not be included in reductions with bool_only=True. Explicitly cast to bool dtype instead.\n",
      "  df = df.append(lines_json, ignore_index = True)\n"
     ]
    }
   ],
   "source": [
    "for row in data:\n",
    "    lines = json.loads(row)\n",
    "    url = lines['url']\n",
    "    user = lines['user']\n",
    "    serveur = lines['serveur']\n",
    "    val = lines['val']\n",
    "    try:\n",
    "        arg =  dict(lines['arg'])\n",
    "        param1 = arg['param1']\n",
    "        param2 = arg['param2']\n",
    "    except KeyError:\n",
    "        param1 = \"\"\n",
    "        param2 = \"\"\n",
    "    statut = lines['statut']\n",
    "    date_ =  datetime.fromtimestamp(lines['date'])\n",
    "    remote = lines['remote'] \n",
    "    exist = lines['exist']\n",
    "    ipinfo = lines['ipinfo']\n",
    "    location = lines['location']\n",
    "    lines_json = {'url':url, 'user':user, 'serveur':serveur, 'val':val, 'param1':param1, \\\n",
    "                  'param2':param2, 'statut':statut, 'date':date_, 'remote':remote, 'exist':exist,\\\n",
    "                  'ipinfo':ipinfo, 'location':location}\n",
    "    df1 = df1.append(lines_json, ignore_index = True)\n",
    "    "
   ]
  },
  {
   "cell_type": "code",
   "execution_count": 56,
   "id": "0572badb-6aaf-404a-96e4-0627a2d29d85",
   "metadata": {},
   "outputs": [
    {
     "data": {
      "text/html": [
       "<div>\n",
       "<style scoped>\n",
       "    .dataframe tbody tr th:only-of-type {\n",
       "        vertical-align: middle;\n",
       "    }\n",
       "\n",
       "    .dataframe tbody tr th {\n",
       "        vertical-align: top;\n",
       "    }\n",
       "\n",
       "    .dataframe thead th {\n",
       "        text-align: right;\n",
       "    }\n",
       "</style>\n",
       "<table border=\"1\" class=\"dataframe\">\n",
       "  <thead>\n",
       "    <tr style=\"text-align: right;\">\n",
       "      <th></th>\n",
       "      <th>url</th>\n",
       "      <th>user</th>\n",
       "      <th>serveur</th>\n",
       "      <th>val</th>\n",
       "      <th>arg</th>\n",
       "      <th>statut</th>\n",
       "      <th>date</th>\n",
       "      <th>remote</th>\n",
       "      <th>exist</th>\n",
       "      <th>ipinfo</th>\n",
       "      <th>location</th>\n",
       "      <th>param1</th>\n",
       "      <th>param2</th>\n",
       "    </tr>\n",
       "  </thead>\n",
       "  <tbody>\n",
       "    <tr>\n",
       "      <th>0</th>\n",
       "      <td>https://0</td>\n",
       "      <td>&lt;user 'chrome' 0&gt;</td>\n",
       "      <td>ppe-0</td>\n",
       "      <td>aut-0</td>\n",
       "      <td>{}</td>\n",
       "      <td>200</td>\n",
       "      <td>1658244717</td>\n",
       "      <td>remote-0</td>\n",
       "      <td>True</td>\n",
       "      <td>None</td>\n",
       "      <td>City-0</td>\n",
       "      <td>NaN</td>\n",
       "      <td>NaN</td>\n",
       "    </tr>\n",
       "    <tr>\n",
       "      <th>1</th>\n",
       "      <td>https://1</td>\n",
       "      <td>&lt;user 'chrome' 1&gt;</td>\n",
       "      <td>ppe-1</td>\n",
       "      <td>aut-1</td>\n",
       "      <td>{'param1': 1, 'param2': 2}</td>\n",
       "      <td>201</td>\n",
       "      <td>1658244719</td>\n",
       "      <td>remote-1</td>\n",
       "      <td>False</td>\n",
       "      <td>192.168.1.1</td>\n",
       "      <td>City-1</td>\n",
       "      <td>NaN</td>\n",
       "      <td>NaN</td>\n",
       "    </tr>\n",
       "    <tr>\n",
       "      <th>2</th>\n",
       "      <td>https://2</td>\n",
       "      <td>&lt;user 'chrome' 2&gt;</td>\n",
       "      <td>ppe-2</td>\n",
       "      <td>aut-2</td>\n",
       "      <td>{'param1': 2, 'param2': 4}</td>\n",
       "      <td>202</td>\n",
       "      <td>1658244730</td>\n",
       "      <td></td>\n",
       "      <td>True</td>\n",
       "      <td>192.168.1.2</td>\n",
       "      <td>City-2</td>\n",
       "      <td>NaN</td>\n",
       "      <td>NaN</td>\n",
       "    </tr>\n",
       "    <tr>\n",
       "      <th>3</th>\n",
       "      <td>https://0</td>\n",
       "      <td>&lt;user 'chrome' 0&gt;</td>\n",
       "      <td>ppe-0</td>\n",
       "      <td>aut-0</td>\n",
       "      <td>NaN</td>\n",
       "      <td>200</td>\n",
       "      <td>2022-07-19 15:31:57</td>\n",
       "      <td>remote-0</td>\n",
       "      <td>True</td>\n",
       "      <td>None</td>\n",
       "      <td>City-0</td>\n",
       "      <td></td>\n",
       "      <td></td>\n",
       "    </tr>\n",
       "    <tr>\n",
       "      <th>4</th>\n",
       "      <td>https://1</td>\n",
       "      <td>&lt;user 'chrome' 1&gt;</td>\n",
       "      <td>ppe-1</td>\n",
       "      <td>aut-1</td>\n",
       "      <td>NaN</td>\n",
       "      <td>201</td>\n",
       "      <td>2022-07-19 15:31:59</td>\n",
       "      <td>remote-1</td>\n",
       "      <td>False</td>\n",
       "      <td>192.168.1.1</td>\n",
       "      <td>City-1</td>\n",
       "      <td>1</td>\n",
       "      <td>2</td>\n",
       "    </tr>\n",
       "    <tr>\n",
       "      <th>5</th>\n",
       "      <td>https://2</td>\n",
       "      <td>&lt;user 'chrome' 2&gt;</td>\n",
       "      <td>ppe-2</td>\n",
       "      <td>aut-2</td>\n",
       "      <td>NaN</td>\n",
       "      <td>202</td>\n",
       "      <td>2022-07-19 15:32:10</td>\n",
       "      <td></td>\n",
       "      <td>True</td>\n",
       "      <td>192.168.1.2</td>\n",
       "      <td>City-2</td>\n",
       "      <td>2</td>\n",
       "      <td>4</td>\n",
       "    </tr>\n",
       "  </tbody>\n",
       "</table>\n",
       "</div>"
      ],
      "text/plain": [
       "         url               user serveur    val                         arg  \\\n",
       "0  https://0  <user 'chrome' 0>   ppe-0  aut-0                          {}   \n",
       "1  https://1  <user 'chrome' 1>   ppe-1  aut-1  {'param1': 1, 'param2': 2}   \n",
       "2  https://2  <user 'chrome' 2>   ppe-2  aut-2  {'param1': 2, 'param2': 4}   \n",
       "3  https://0  <user 'chrome' 0>   ppe-0  aut-0                         NaN   \n",
       "4  https://1  <user 'chrome' 1>   ppe-1  aut-1                         NaN   \n",
       "5  https://2  <user 'chrome' 2>   ppe-2  aut-2                         NaN   \n",
       "\n",
       "  statut                 date    remote  exist       ipinfo location param1  \\\n",
       "0    200           1658244717  remote-0   True         None   City-0    NaN   \n",
       "1    201           1658244719  remote-1  False  192.168.1.1   City-1    NaN   \n",
       "2    202           1658244730             True  192.168.1.2   City-2    NaN   \n",
       "3    200  2022-07-19 15:31:57  remote-0   True         None   City-0          \n",
       "4    201  2022-07-19 15:31:59  remote-1  False  192.168.1.1   City-1      1   \n",
       "5    202  2022-07-19 15:32:10             True  192.168.1.2   City-2      2   \n",
       "\n",
       "  param2  \n",
       "0    NaN  \n",
       "1    NaN  \n",
       "2    NaN  \n",
       "3         \n",
       "4      2  \n",
       "5      4  "
      ]
     },
     "execution_count": 56,
     "metadata": {},
     "output_type": "execute_result"
    }
   ],
   "source": [
    "dfdf1"
   ]
  },
  {
   "cell_type": "markdown",
   "id": "45d3e3f7-d6dc-4352-bdee-189533690d24",
   "metadata": {},
   "source": [
    "# Directement avec Pandas"
   ]
  },
  {
   "cell_type": "code",
   "execution_count": 32,
   "id": "cf134abf-ac06-4438-a853-f343f9706093",
   "metadata": {},
   "outputs": [
    {
     "name": "stdout",
     "output_type": "stream",
     "text": [
      "Empty DataFrame\n",
      "Columns: [url, user, serveur, val, arg, statut, date, remote, exist, ipinfo, location]\n",
      "Index: []\n"
     ]
    }
   ],
   "source": [
    "df = pd.DataFrame(columns = ['url', 'user', 'serveur','val', 'arg', 'statut', 'date', 'remote', 'exist', 'ipinfo', 'location' ])\n",
    "print(df)"
   ]
  },
  {
   "cell_type": "code",
   "execution_count": 33,
   "id": "da4cfcae-2eda-40b6-8f63-0044a6f48e58",
   "metadata": {},
   "outputs": [
    {
     "name": "stderr",
     "output_type": "stream",
     "text": [
      "/var/folders/18/sbx_5ksj2qd626pf1wdsq2vh0000gn/T/ipykernel_39966/1631123808.py:3: FutureWarning: The frame.append method is deprecated and will be removed from pandas in a future version. Use pandas.concat instead.\n",
      "  df = df.append(lines,\n",
      "/var/folders/18/sbx_5ksj2qd626pf1wdsq2vh0000gn/T/ipykernel_39966/1631123808.py:3: FutureWarning: The frame.append method is deprecated and will be removed from pandas in a future version. Use pandas.concat instead.\n",
      "  df = df.append(lines,\n",
      "/var/folders/18/sbx_5ksj2qd626pf1wdsq2vh0000gn/T/ipykernel_39966/1631123808.py:3: FutureWarning: In a future version, object-dtype columns with all-bool values will not be included in reductions with bool_only=True. Explicitly cast to bool dtype instead.\n",
      "  df = df.append(lines,\n",
      "/var/folders/18/sbx_5ksj2qd626pf1wdsq2vh0000gn/T/ipykernel_39966/1631123808.py:3: FutureWarning: The frame.append method is deprecated and will be removed from pandas in a future version. Use pandas.concat instead.\n",
      "  df = df.append(lines,\n",
      "/var/folders/18/sbx_5ksj2qd626pf1wdsq2vh0000gn/T/ipykernel_39966/1631123808.py:3: FutureWarning: In a future version, object-dtype columns with all-bool values will not be included in reductions with bool_only=True. Explicitly cast to bool dtype instead.\n",
      "  df = df.append(lines,\n"
     ]
    }
   ],
   "source": [
    "for row in data:\n",
    "    lines = json.loads(row)\n",
    "    df = df.append(lines, \n",
    "                ignore_index = True)"
   ]
  },
  {
   "cell_type": "code",
   "execution_count": 34,
   "id": "11afd224-bdad-4fdf-98bf-6fe9406c2117",
   "metadata": {},
   "outputs": [
    {
     "data": {
      "text/html": [
       "<div>\n",
       "<style scoped>\n",
       "    .dataframe tbody tr th:only-of-type {\n",
       "        vertical-align: middle;\n",
       "    }\n",
       "\n",
       "    .dataframe tbody tr th {\n",
       "        vertical-align: top;\n",
       "    }\n",
       "\n",
       "    .dataframe thead th {\n",
       "        text-align: right;\n",
       "    }\n",
       "</style>\n",
       "<table border=\"1\" class=\"dataframe\">\n",
       "  <thead>\n",
       "    <tr style=\"text-align: right;\">\n",
       "      <th></th>\n",
       "      <th>url</th>\n",
       "      <th>user</th>\n",
       "      <th>serveur</th>\n",
       "      <th>val</th>\n",
       "      <th>arg</th>\n",
       "      <th>statut</th>\n",
       "      <th>date</th>\n",
       "      <th>remote</th>\n",
       "      <th>exist</th>\n",
       "      <th>ipinfo</th>\n",
       "      <th>location</th>\n",
       "    </tr>\n",
       "  </thead>\n",
       "  <tbody>\n",
       "    <tr>\n",
       "      <th>0</th>\n",
       "      <td>https://0</td>\n",
       "      <td>&lt;user 'chrome' 0&gt;</td>\n",
       "      <td>ppe-0</td>\n",
       "      <td>aut-0</td>\n",
       "      <td>{}</td>\n",
       "      <td>200</td>\n",
       "      <td>1658244717</td>\n",
       "      <td>remote-0</td>\n",
       "      <td>True</td>\n",
       "      <td>None</td>\n",
       "      <td>City-0</td>\n",
       "    </tr>\n",
       "    <tr>\n",
       "      <th>1</th>\n",
       "      <td>https://1</td>\n",
       "      <td>&lt;user 'chrome' 1&gt;</td>\n",
       "      <td>ppe-1</td>\n",
       "      <td>aut-1</td>\n",
       "      <td>{'param1': 1, 'param2': 2}</td>\n",
       "      <td>201</td>\n",
       "      <td>1658244719</td>\n",
       "      <td>remote-1</td>\n",
       "      <td>False</td>\n",
       "      <td>192.168.1.1</td>\n",
       "      <td>City-1</td>\n",
       "    </tr>\n",
       "    <tr>\n",
       "      <th>2</th>\n",
       "      <td>https://2</td>\n",
       "      <td>&lt;user 'chrome' 2&gt;</td>\n",
       "      <td>ppe-2</td>\n",
       "      <td>aut-2</td>\n",
       "      <td>{'param1': 2, 'param2': 4}</td>\n",
       "      <td>202</td>\n",
       "      <td>1658244730</td>\n",
       "      <td></td>\n",
       "      <td>True</td>\n",
       "      <td>192.168.1.2</td>\n",
       "      <td>City-2</td>\n",
       "    </tr>\n",
       "  </tbody>\n",
       "</table>\n",
       "</div>"
      ],
      "text/plain": [
       "         url               user serveur    val                         arg  \\\n",
       "0  https://0  <user 'chrome' 0>   ppe-0  aut-0                          {}   \n",
       "1  https://1  <user 'chrome' 1>   ppe-1  aut-1  {'param1': 1, 'param2': 2}   \n",
       "2  https://2  <user 'chrome' 2>   ppe-2  aut-2  {'param1': 2, 'param2': 4}   \n",
       "\n",
       "  statut        date    remote  exist       ipinfo location  \n",
       "0    200  1658244717  remote-0   True         None   City-0  \n",
       "1    201  1658244719  remote-1  False  192.168.1.1   City-1  \n",
       "2    202  1658244730             True  192.168.1.2   City-2  "
      ]
     },
     "execution_count": 34,
     "metadata": {},
     "output_type": "execute_result"
    }
   ],
   "source": [
    "df"
   ]
  },
  {
   "cell_type": "code",
   "execution_count": null,
   "id": "a6bd9470-67b5-4430-b91b-4a2df709d7d6",
   "metadata": {},
   "outputs": [],
   "source": []
  }
 ],
 "metadata": {
  "kernelspec": {
   "display_name": "Python 3 (ipykernel)",
   "language": "python",
   "name": "python3"
  },
  "language_info": {
   "codemirror_mode": {
    "name": "ipython",
    "version": 3
   },
   "file_extension": ".py",
   "mimetype": "text/x-python",
   "name": "python",
   "nbconvert_exporter": "python",
   "pygments_lexer": "ipython3",
   "version": "3.10.9"
  }
 },
 "nbformat": 4,
 "nbformat_minor": 5
}
